{
 "cells": [
  {
   "cell_type": "markdown",
   "source": [
    "# DataFrames Extras\n",
    "Some selected functionalities and packages"
   ],
   "metadata": {}
  },
  {
   "outputs": [],
   "cell_type": "code",
   "source": [
    "using DataFrames\n",
    "using CategoricalArrays"
   ],
   "metadata": {},
   "execution_count": null
  },
  {
   "cell_type": "markdown",
   "source": [
    "## Frequency Tables\n",
    "https://github.com/nalimilan/FreqTables.jl"
   ],
   "metadata": {}
  },
  {
   "outputs": [],
   "cell_type": "code",
   "source": [
    "using FreqTables\n",
    "\n",
    "df = DataFrame(a=rand('a':'d', 1000), b=rand([\"x\", \"y\", \"z\"], 1000))\n",
    "ft = freqtable(df, :a, :b) ## observe that dimensions are sorted if possible"
   ],
   "metadata": {},
   "execution_count": null
  },
  {
   "cell_type": "markdown",
   "source": [
    "you can index the result using numbers or names"
   ],
   "metadata": {}
  },
  {
   "outputs": [],
   "cell_type": "code",
   "source": [
    "ft[1,1], ft['b', \"z\"]"
   ],
   "metadata": {},
   "execution_count": null
  },
  {
   "cell_type": "markdown",
   "source": [
    "getting proportions - 1 means we want to calculate them in rows (first dimension)"
   ],
   "metadata": {}
  },
  {
   "outputs": [],
   "cell_type": "code",
   "source": [
    "prop(ft, margins=1)"
   ],
   "metadata": {},
   "execution_count": null
  },
  {
   "cell_type": "markdown",
   "source": [
    "and columns are normalized to 1.0 now"
   ],
   "metadata": {}
  },
  {
   "outputs": [],
   "cell_type": "code",
   "source": [
    "prop(ft, margins=2)"
   ],
   "metadata": {},
   "execution_count": null
  },
  {
   "outputs": [],
   "cell_type": "code",
   "source": [
    "x = categorical(rand(1:3, 10))\n",
    "levels!(x, [3, 1, 2, 4]) ## reordering levels and adding an extra level\n",
    "freqtable(x) ## order is preserved and not-used level is shown"
   ],
   "metadata": {},
   "execution_count": null
  },
  {
   "cell_type": "markdown",
   "source": [
    "by default missing values are listed"
   ],
   "metadata": {}
  },
  {
   "outputs": [],
   "cell_type": "code",
   "source": [
    "freqtable([1,1,2,3,missing])"
   ],
   "metadata": {},
   "execution_count": null
  },
  {
   "cell_type": "markdown",
   "source": [
    "but we can skip them"
   ],
   "metadata": {}
  },
  {
   "outputs": [],
   "cell_type": "code",
   "source": [
    "freqtable([1,1,2,3,missing], skipmissing=true)"
   ],
   "metadata": {},
   "execution_count": null
  },
  {
   "outputs": [],
   "cell_type": "code",
   "source": [
    "df = DataFrame(a=rand(3:4, 1000), b=rand(5:6, 1000))\n",
    "ft = freqtable(df, :a, :b) ## now dimensions are numbers"
   ],
   "metadata": {},
   "execution_count": null
  },
  {
   "cell_type": "markdown",
   "source": [
    "this is an error - standard array indexing takes precedence"
   ],
   "metadata": {}
  },
  {
   "outputs": [],
   "cell_type": "code",
   "source": [
    "try\n",
    "    ft[3,5]\n",
    "catch e\n",
    "    show(e)\n",
    "end"
   ],
   "metadata": {},
   "execution_count": null
  },
  {
   "cell_type": "markdown",
   "source": [
    "you have to use `Name()` wrapper"
   ],
   "metadata": {}
  },
  {
   "outputs": [],
   "cell_type": "code",
   "source": [
    "ft[Name(3), Name(5)]"
   ],
   "metadata": {},
   "execution_count": null
  },
  {
   "cell_type": "markdown",
   "source": [
    "## DataFramesMeta.jl\n",
    "https://github.com/JuliaData/DataFramesMeta.jl provides a more terse syntax due to the benefits of metaprogramming."
   ],
   "metadata": {}
  },
  {
   "outputs": [],
   "cell_type": "code",
   "source": [
    "using DataFramesMeta\n",
    "\n",
    "df = DataFrame(x=1:8, y='a':'h', z=repeat([true,false], outer=4))"
   ],
   "metadata": {},
   "execution_count": null
  },
  {
   "cell_type": "markdown",
   "source": [
    "expressions with columns of DataFrame"
   ],
   "metadata": {}
  },
  {
   "outputs": [],
   "cell_type": "code",
   "source": [
    "@with(df, :x + :z)"
   ],
   "metadata": {},
   "execution_count": null
  },
  {
   "cell_type": "markdown",
   "source": [
    "you can define complex operations code blocks"
   ],
   "metadata": {}
  },
  {
   "outputs": [],
   "cell_type": "code",
   "source": [
    "@with df begin\n",
    "    a = :x[:z]\n",
    "    b = :x[.!:z]\n",
    "    :y + [a; b]\n",
    "end"
   ],
   "metadata": {},
   "execution_count": null
  },
  {
   "cell_type": "markdown",
   "source": [
    " `@with` creates hard scope so variables do not leak out"
   ],
   "metadata": {}
  },
  {
   "outputs": [],
   "cell_type": "code",
   "source": [
    "df2 = DataFrame(a = [:a, :b, :c])\n",
    "@with(df2, :a .== ^(:a)) ## sometimes we want to work on a raw Symbol, ^() escapes it"
   ],
   "metadata": {},
   "execution_count": null
  },
  {
   "outputs": [],
   "cell_type": "code",
   "source": [
    "x_str = \"x\"\n",
    "y_str = \"y\"\n",
    "df2 = DataFrame(x=1:3, y=4:6, z=7:9)\n",
    "# $expression inderpolates the expression in-place; in particular this way you can use column names passed as strings\n",
    "@with(df2, $x_str + $y_str)"
   ],
   "metadata": {},
   "execution_count": null
  },
  {
   "cell_type": "markdown",
   "source": [
    "`@subset`: a very useful macro for filtering"
   ],
   "metadata": {}
  },
  {
   "outputs": [],
   "cell_type": "code",
   "source": [
    "@subset(df, :x .< 4, :z .== true)"
   ],
   "metadata": {},
   "execution_count": null
  },
  {
   "cell_type": "markdown",
   "source": [
    "create a new DataFrame based on the old one"
   ],
   "metadata": {}
  },
  {
   "outputs": [],
   "cell_type": "code",
   "source": [
    "@select(df, :x, :y = 2*:x, :z=:y)"
   ],
   "metadata": {},
   "execution_count": null
  },
  {
   "cell_type": "markdown",
   "source": [
    "create a new DataFrame adding columns based on the old one"
   ],
   "metadata": {}
  },
  {
   "outputs": [],
   "cell_type": "code",
   "source": [
    "@transform(df, :x = 2*:x, :y = :x)"
   ],
   "metadata": {},
   "execution_count": null
  },
  {
   "cell_type": "markdown",
   "source": [
    "sorting into a new data frame, less powerful than sort, but lightweight"
   ],
   "metadata": {}
  },
  {
   "outputs": [],
   "cell_type": "code",
   "source": [
    "@orderby(df, :z, -:x)"
   ],
   "metadata": {},
   "execution_count": null
  },
  {
   "cell_type": "markdown",
   "source": [
    "### Chaining operations\n",
    "https://github.com/jkrumbiegel/Chain.jl :Chaining of operations on DataFrame, could be used with DataFramesMeta.jl"
   ],
   "metadata": {}
  },
  {
   "outputs": [],
   "cell_type": "code",
   "source": [
    "using Chain\n",
    "\n",
    "@chain df begin\n",
    "    @subset(:x .< 5)\n",
    "    @orderby(:z)\n",
    "    @transform(:x² = :x .^ 2)\n",
    "    @select(:z, :x, :x²)\n",
    "end"
   ],
   "metadata": {},
   "execution_count": null
  },
  {
   "cell_type": "markdown",
   "source": [
    "### Working on grouped DataFrame"
   ],
   "metadata": {}
  },
  {
   "outputs": [],
   "cell_type": "code",
   "source": [
    "df = DataFrame(a = 1:12, b = repeat('a':'d', outer=3))\n",
    "g = groupby(df, :b)"
   ],
   "metadata": {},
   "execution_count": null
  },
  {
   "cell_type": "markdown",
   "source": [
    "groupby+combine in one line"
   ],
   "metadata": {}
  },
  {
   "outputs": [],
   "cell_type": "code",
   "source": [
    "using Statistics\n",
    "\n",
    "@by(df, :b, :first = first(:a), :last = last(:a), :mean = mean(:a))"
   ],
   "metadata": {},
   "execution_count": null
  },
  {
   "cell_type": "markdown",
   "source": [
    "the same as by but on grouped DataFrame"
   ],
   "metadata": {}
  },
  {
   "outputs": [],
   "cell_type": "code",
   "source": [
    "@combine(g, :first = first(:a), :last = last(:a), :mean = mean(:a))"
   ],
   "metadata": {},
   "execution_count": null
  },
  {
   "cell_type": "markdown",
   "source": [
    "similar in DataFrames.jl - we use auto-generated column names"
   ],
   "metadata": {}
  },
  {
   "outputs": [],
   "cell_type": "code",
   "source": [
    "combine(g, :a .=> [first, last, mean])"
   ],
   "metadata": {},
   "execution_count": null
  },
  {
   "cell_type": "markdown",
   "source": [
    "perform operations within a group and return ungrouped DataFrame"
   ],
   "metadata": {}
  },
  {
   "outputs": [],
   "cell_type": "code",
   "source": [
    "@transform(g, :center = mean(:a), :centered = :a .- mean(:a))"
   ],
   "metadata": {},
   "execution_count": null
  },
  {
   "cell_type": "markdown",
   "source": [
    "this is defined in DataFrames.jl"
   ],
   "metadata": {}
  },
  {
   "outputs": [],
   "cell_type": "code",
   "source": [
    "DataFrame(g)"
   ],
   "metadata": {},
   "execution_count": null
  },
  {
   "cell_type": "markdown",
   "source": [
    "actually this is not the same as DataFrame() as it preserves the original row order"
   ],
   "metadata": {}
  },
  {
   "outputs": [],
   "cell_type": "code",
   "source": [
    "@transform(g)"
   ],
   "metadata": {},
   "execution_count": null
  },
  {
   "cell_type": "markdown",
   "source": [
    "### Row-wise operations on DataFrame"
   ],
   "metadata": {}
  },
  {
   "outputs": [],
   "cell_type": "code",
   "source": [
    "df = DataFrame(a = 1:12, b = repeat(1:4, outer=3))"
   ],
   "metadata": {},
   "execution_count": null
  },
  {
   "cell_type": "markdown",
   "source": [
    "such conditions are often needed but are complex to write"
   ],
   "metadata": {}
  },
  {
   "outputs": [],
   "cell_type": "code",
   "source": [
    "@transform(df, :x = ifelse.((:a .> 6) .& (:b .== 4), \"yes\", \"no\"))"
   ],
   "metadata": {},
   "execution_count": null
  },
  {
   "cell_type": "markdown",
   "source": [
    "one option is to use a function that works on a single observation and broadcast it"
   ],
   "metadata": {}
  },
  {
   "outputs": [],
   "cell_type": "code",
   "source": [
    "myfun(a, b) = a > 6 && b == 4 ? \"yes\" : \"no\"\n",
    "@transform(df, :x = myfun.(:a, :b))"
   ],
   "metadata": {},
   "execution_count": null
  },
  {
   "cell_type": "markdown",
   "source": [
    "or you can use `@eachrow` macro that allows you to process DataFrame rowwise"
   ],
   "metadata": {}
  },
  {
   "outputs": [],
   "cell_type": "code",
   "source": [
    "@eachrow df begin\n",
    "    @newcol :x::Vector{String}\n",
    "     :x = :a > 6 && :b == 4 ? \"yes\" : \"no\"\n",
    " end"
   ],
   "metadata": {},
   "execution_count": null
  },
  {
   "cell_type": "markdown",
   "source": [
    "In `DataFrames.jl` you would write this as:"
   ],
   "metadata": {}
  },
  {
   "outputs": [],
   "cell_type": "code",
   "source": [
    "transform(df, [:a, :b] => ByRow((a,b) -> ifelse(a > 6 && b == 4, \"yes\", \"no\")) => :x)"
   ],
   "metadata": {},
   "execution_count": null
  },
  {
   "cell_type": "markdown",
   "source": [
    "You can also use eachrow from DataFrames to perform the same transformation. However `@eachrow` will be faster than the operation below."
   ],
   "metadata": {}
  },
  {
   "outputs": [],
   "cell_type": "code",
   "source": [
    "df2 = copy(df)\n",
    "df2.x = Vector{String}(undef, nrow(df2))\n",
    "for row in eachrow(df2)\n",
    "   row[:x] = row[:a] > 6 && row[:b] == 4 ? \"yes\" : \"no\"\n",
    "end\n",
    "df2"
   ],
   "metadata": {},
   "execution_count": null
  },
  {
   "cell_type": "markdown",
   "source": [
    "## StatsPlots.jl: Visualizing data\n",
    "https://github.com/JuliaPlots/StatsPlots.jl\n",
    "you might want to setup Plots package and some plotting backend first"
   ],
   "metadata": {}
  },
  {
   "outputs": [],
   "cell_type": "code",
   "source": [
    "using StatsPlots"
   ],
   "metadata": {},
   "execution_count": null
  },
  {
   "cell_type": "markdown",
   "source": [
    "A showcase of StatsPlots.jl functions"
   ],
   "metadata": {}
  },
  {
   "outputs": [],
   "cell_type": "code",
   "source": [
    "using Random\n",
    "Random.seed!(1)\n",
    "df = DataFrame(x = sort(randn(1000)), y=randn(1000), z = [fill(\"b\", 500); fill(\"a\", 500)]);"
   ],
   "metadata": {},
   "execution_count": null
  },
  {
   "cell_type": "markdown",
   "source": [
    "a basic plot"
   ],
   "metadata": {}
  },
  {
   "outputs": [],
   "cell_type": "code",
   "source": [
    "@df df plot(:x, :y, legend=:topleft, label=\"y(x)\", seriestype=:scatter)"
   ],
   "metadata": {},
   "execution_count": null
  },
  {
   "cell_type": "markdown",
   "source": [
    "a density plot"
   ],
   "metadata": {}
  },
  {
   "outputs": [],
   "cell_type": "code",
   "source": [
    "@df df density(:x, label=\"\")"
   ],
   "metadata": {},
   "execution_count": null
  },
  {
   "cell_type": "markdown",
   "source": [
    "a histogram"
   ],
   "metadata": {}
  },
  {
   "outputs": [],
   "cell_type": "code",
   "source": [
    "@df df histogram(:y, label=\"y\")"
   ],
   "metadata": {},
   "execution_count": null
  },
  {
   "cell_type": "markdown",
   "source": [
    "a box plot"
   ],
   "metadata": {}
  },
  {
   "outputs": [],
   "cell_type": "code",
   "source": [
    "@df df boxplot(:z, :x, label=\"x\")"
   ],
   "metadata": {},
   "execution_count": null
  },
  {
   "cell_type": "markdown",
   "source": [
    "a violin plot"
   ],
   "metadata": {}
  },
  {
   "outputs": [],
   "cell_type": "code",
   "source": [
    "@df df violin(:z, :y, label=\"y\")"
   ],
   "metadata": {},
   "execution_count": null
  },
  {
   "cell_type": "markdown",
   "source": [
    "---\n",
    "\n",
    "*This notebook was generated using [Literate.jl](https://github.com/fredrikekre/Literate.jl).*"
   ],
   "metadata": {}
  }
 ],
 "nbformat_minor": 3,
 "metadata": {
  "language_info": {
   "file_extension": ".jl",
   "mimetype": "application/julia",
   "name": "julia",
   "version": "1.11.4"
  },
  "kernelspec": {
   "name": "julia-1.11",
   "display_name": "Julia 1.11.4",
   "language": "julia"
  }
 },
 "nbformat": 4
}
