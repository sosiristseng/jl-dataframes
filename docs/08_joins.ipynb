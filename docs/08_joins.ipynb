{
 "cells": [
  {
   "cell_type": "markdown",
   "source": [
    "# Joining DataFrames"
   ],
   "metadata": {}
  },
  {
   "outputs": [],
   "cell_type": "code",
   "source": [
    "using DataFrames"
   ],
   "metadata": {},
   "execution_count": null
  },
  {
   "cell_type": "markdown",
   "source": [
    "## Preparing DataFrames for a join"
   ],
   "metadata": {}
  },
  {
   "outputs": [],
   "cell_type": "code",
   "source": [
    "x = DataFrame(ID=[1, 2, 3, 4, missing], name=[\"Alice\", \"Bob\", \"Conor\", \"Dave\", \"Zed\"])\n",
    "y = DataFrame(id=[1, 2, 5, 6, missing], age=[21, 22, 23, 24, 99])"
   ],
   "metadata": {},
   "execution_count": null
  },
  {
   "cell_type": "markdown",
   "source": [
    "Rules for the `on` keyword argument:\n",
    "\n",
    "+ a single `Symbol` or string if joining on one column with the same name, e.g. `on=:id`\n",
    "+ a `Pair` of `Symbol`s or string if joining on one column with different names, e.g. `on=:id=>:id2`\n",
    "+ a vector of `Symbol`s or strings if joining on multiple columns with the same name, e.g. `on=[:id1, :id2]`\n",
    "+ a vector of `Pair`s of `Symbol`s or strings if joining on multiple columns with different names, e.g. `on=[:a1=>:a2, :b1=>:b2]`\n",
    "+ a vector containing a combination of `Symbol`s or strings or `Pair` of `Symbol`s or strings, e.g. `on=[:a1=>:a2, :b1]`"
   ],
   "metadata": {}
  },
  {
   "outputs": [],
   "cell_type": "code",
   "source": [
    "try\n",
    "    innerjoin(x, y, on=:ID => :id) ## missing is not allowed to join-on by default\n",
    "catch e\n",
    "    show(e)\n",
    "end"
   ],
   "metadata": {},
   "execution_count": null
  },
  {
   "outputs": [],
   "cell_type": "code",
   "source": [
    "innerjoin(x, y, on=:ID => :id, matchmissing=:equal)"
   ],
   "metadata": {},
   "execution_count": null
  },
  {
   "outputs": [],
   "cell_type": "code",
   "source": [
    "leftjoin(x, y, on=\"ID\" => \"id\", matchmissing=:equal)"
   ],
   "metadata": {},
   "execution_count": null
  },
  {
   "outputs": [],
   "cell_type": "code",
   "source": [
    "rightjoin(x, y, on=:ID => :id, matchmissing=:equal)"
   ],
   "metadata": {},
   "execution_count": null
  },
  {
   "outputs": [],
   "cell_type": "code",
   "source": [
    "outerjoin(x, y, on=:ID => :id, matchmissing=:equal)"
   ],
   "metadata": {},
   "execution_count": null
  },
  {
   "outputs": [],
   "cell_type": "code",
   "source": [
    "semijoin(x, y, on=:ID => :id, matchmissing=:equal)"
   ],
   "metadata": {},
   "execution_count": null
  },
  {
   "outputs": [],
   "cell_type": "code",
   "source": [
    "antijoin(x, y, on=:ID => :id, matchmissing=:equal)"
   ],
   "metadata": {},
   "execution_count": null
  },
  {
   "cell_type": "markdown",
   "source": [
    "## Cross join\n",
    "(here no `on` argument)"
   ],
   "metadata": {}
  },
  {
   "outputs": [],
   "cell_type": "code",
   "source": [
    "crossjoin(DataFrame(x=[1, 2]), DataFrame(y=[\"a\", \"b\", \"c\"]))"
   ],
   "metadata": {},
   "execution_count": null
  },
  {
   "cell_type": "markdown",
   "source": [
    "## Complex cases of joins"
   ],
   "metadata": {}
  },
  {
   "outputs": [],
   "cell_type": "code",
   "source": [
    "x = DataFrame(id1=[1, 1, 2, 2, missing, missing],\n",
    "    id2=[1, 11, 2, 21, missing, 99],\n",
    "    name=[\"Alice\", \"Bob\", \"Conor\", \"Dave\", \"Zed\", \"Zoe\"]\n",
    ")\n",
    "y = DataFrame(id1=[1, 1, 3, 3, missing, missing],\n",
    "    id2=[11, 1, 31, 3, missing, 999],\n",
    "    age=[21, 22, 23, 24, 99, 100]\n",
    ")"
   ],
   "metadata": {},
   "execution_count": null
  },
  {
   "cell_type": "markdown",
   "source": [
    "joining on two columns"
   ],
   "metadata": {}
  },
  {
   "outputs": [],
   "cell_type": "code",
   "source": [
    "innerjoin(x, y, on=[:id1, :id2], matchmissing=:equal)"
   ],
   "metadata": {},
   "execution_count": null
  },
  {
   "cell_type": "markdown",
   "source": [
    "with duplicates all combinations are produced"
   ],
   "metadata": {}
  },
  {
   "outputs": [],
   "cell_type": "code",
   "source": [
    "outerjoin(x, y, on=:id1, makeunique=true, indicator=:source, matchmissing=:equal)"
   ],
   "metadata": {},
   "execution_count": null
  },
  {
   "cell_type": "markdown",
   "source": [
    "you can force validation of uniqueness of key on which you join"
   ],
   "metadata": {}
  },
  {
   "outputs": [],
   "cell_type": "code",
   "source": [
    "try\n",
    "    innerjoin(x, y, on=:id1, makeunique=true, validate=(true, true), matchmissing=:equal)\n",
    "catch e\n",
    "    show(e)\n",
    "end"
   ],
   "metadata": {},
   "execution_count": null
  },
  {
   "cell_type": "markdown",
   "source": [
    "mixed `on` argument for joining on multiple columns"
   ],
   "metadata": {}
  },
  {
   "outputs": [],
   "cell_type": "code",
   "source": [
    "x = DataFrame(id1=1:6, id2=[1, 2, 1, 2, 1, 2], x1='a':'f')\n",
    "y = DataFrame(id1=1:6, ID2=1:6, x2='a':'f')\n",
    "innerjoin(x, y, on=[:id1, :id2 => :ID2])"
   ],
   "metadata": {},
   "execution_count": null
  },
  {
   "cell_type": "markdown",
   "source": [
    "joining more than two data frames"
   ],
   "metadata": {}
  },
  {
   "outputs": [],
   "cell_type": "code",
   "source": [
    "xs = [DataFrame(\"id\" => 1:6, \"v$i\" => ((1:6) .+ 10i)) for i in 1:5]"
   ],
   "metadata": {},
   "execution_count": null
  },
  {
   "cell_type": "markdown",
   "source": [
    "`innerjoin` as an example, it also works for `outerjoin` and `crossjoin`"
   ],
   "metadata": {}
  },
  {
   "outputs": [],
   "cell_type": "code",
   "source": [
    "innerjoin(xs..., on=:id)"
   ],
   "metadata": {},
   "execution_count": null
  },
  {
   "cell_type": "markdown",
   "source": [
    "## matchmissing keyword argument\n",
    "\n",
    "In general you have three options how `missing` values are handled in joins that are handled by `matchmisssing` kewyowrd argument value as follows:\n",
    "\n",
    "+ `:error`: throw an error if missings are encountered (this is the default)\n",
    "+ `:equal`: assume `misssing` values are equal to themselves\n",
    "+ `:notequal`: assume `misssing` values are not equal to themselves (not available for `outerjoin`)\n",
    "\n",
    "Here are some examples comparing the options:"
   ],
   "metadata": {}
  },
  {
   "outputs": [],
   "cell_type": "code",
   "source": [
    "df1 = DataFrame(id=[1, 2, missing], x=1:3)\n",
    "df2 = DataFrame(id=[1, missing, 3], y=1:3)\n",
    "\n",
    "try\n",
    "    innerjoin(df1, df2, on=:id)\n",
    "catch e\n",
    "    show(e)\n",
    "end"
   ],
   "metadata": {},
   "execution_count": null
  },
  {
   "outputs": [],
   "cell_type": "code",
   "source": [
    "innerjoin(df1, df2, on=:id, matchmissing=:equal)"
   ],
   "metadata": {},
   "execution_count": null
  },
  {
   "outputs": [],
   "cell_type": "code",
   "source": [
    "innerjoin(df1, df2, on=:id, matchmissing=:notequal)"
   ],
   "metadata": {},
   "execution_count": null
  },
  {
   "cell_type": "markdown",
   "source": [
    "Since DataFrames.jl 1.3 you can do an efficient left join of two data frames in-place. This means that the left data frame gets updated with new columns, but the columns that exist in it are not affected. This operation requires that there are no duplicates of keys in the right data frame that match keys in left data frame:"
   ],
   "metadata": {}
  },
  {
   "outputs": [],
   "cell_type": "code",
   "source": [
    "df1"
   ],
   "metadata": {},
   "execution_count": null
  },
  {
   "outputs": [],
   "cell_type": "code",
   "source": [
    "df2"
   ],
   "metadata": {},
   "execution_count": null
  },
  {
   "outputs": [],
   "cell_type": "code",
   "source": [
    "leftjoin!(df1, df2, on=:id, matchmissing=:notequal)"
   ],
   "metadata": {},
   "execution_count": null
  },
  {
   "outputs": [],
   "cell_type": "code",
   "source": [
    "df1"
   ],
   "metadata": {},
   "execution_count": null
  },
  {
   "cell_type": "markdown",
   "source": [
    "---\n",
    "\n",
    "*This notebook was generated using [Literate.jl](https://github.com/fredrikekre/Literate.jl).*"
   ],
   "metadata": {}
  }
 ],
 "nbformat_minor": 3,
 "metadata": {
  "language_info": {
   "file_extension": ".jl",
   "mimetype": "application/julia",
   "name": "julia",
   "version": "1.11.6"
  },
  "kernelspec": {
   "name": "julia-1.11",
   "display_name": "Julia 1.11.6",
   "language": "julia"
  }
 },
 "nbformat": 4
}
