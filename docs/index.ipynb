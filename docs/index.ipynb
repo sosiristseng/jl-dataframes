{
 "cells": [
  {
   "cell_type": "markdown",
   "source": [
    "# Julia DataFrames Examples\n",
    "\n",
    "A brief introduction to basic usage of [DataFrames](https://github.com/JuliaData/DataFrames.jl), by [Bogumił Kamiński](http://bogumilkaminski.pl/about/) in <https://github.com/bkamins/Julia-DataFrames-Tutorial/>, *December 12, 2021*.\n",
    "\n",
    "The tutorial contains a specification of the project environment version under\n",
    "which it should be run. In order to prepare this environment, before using the\n",
    "tutorial notebooks, while in the project folder run the following command in the\n",
    "command line:\n",
    "\n",
    "```sh\n",
    "julia -e --project=. 'using Pkg; Pkg.instantiate()'\n",
    "```"
   ],
   "metadata": {}
  },
  {
   "cell_type": "markdown",
   "source": [
    "## Runtime information"
   ],
   "metadata": {}
  },
  {
   "outputs": [],
   "cell_type": "code",
   "source": [
    "using InteractiveUtils\n",
    "versioninfo()"
   ],
   "metadata": {},
   "execution_count": null
  },
  {
   "outputs": [],
   "cell_type": "code",
   "source": [
    "using Pkg\n",
    "Pkg.status()"
   ],
   "metadata": {},
   "execution_count": null
  },
  {
   "cell_type": "markdown",
   "source": [
    "---\n",
    "\n",
    "*This notebook was generated using [Literate.jl](https://github.com/fredrikekre/Literate.jl).*"
   ],
   "metadata": {}
  }
 ],
 "nbformat_minor": 3,
 "metadata": {
  "language_info": {
   "file_extension": ".jl",
   "mimetype": "application/julia",
   "name": "julia",
   "version": "1.11.4"
  },
  "kernelspec": {
   "name": "julia-1.11",
   "display_name": "Julia 1.11.4",
   "language": "julia"
  }
 },
 "nbformat": 4
}
