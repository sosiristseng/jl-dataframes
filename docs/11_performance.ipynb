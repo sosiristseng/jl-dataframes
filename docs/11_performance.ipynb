{
 "cells": [
  {
   "cell_type": "markdown",
   "source": [
    "# Performance tips"
   ],
   "metadata": {}
  },
  {
   "outputs": [],
   "cell_type": "code",
   "source": [
    "using DataFrames\n",
    "using BenchmarkTools\n",
    "using CategoricalArrays\n",
    "using PooledArrays\n",
    "using Random"
   ],
   "metadata": {},
   "execution_count": null
  },
  {
   "cell_type": "markdown",
   "source": [
    "## Access by column number is faster than by name"
   ],
   "metadata": {}
  },
  {
   "outputs": [],
   "cell_type": "code",
   "source": [
    "x = DataFrame(rand(5, 1000), :auto)\n",
    "@btime $x[!, 500]; ## Faster"
   ],
   "metadata": {},
   "execution_count": null
  },
  {
   "outputs": [],
   "cell_type": "code",
   "source": [
    "@btime $x.x500;  ## Slower"
   ],
   "metadata": {},
   "execution_count": null
  },
  {
   "cell_type": "markdown",
   "source": [
    "## When working with data DataFrame use barrier functions or type annotation"
   ],
   "metadata": {}
  },
  {
   "outputs": [],
   "cell_type": "code",
   "source": [
    "function f_bad() ## this function will be slow\n",
    "    Random.seed!(1)\n",
    "    x = DataFrame(rand(1000000, 2), :auto)\n",
    "    y, z = x[!, 1], x[!, 2]\n",
    "    p = 0.0\n",
    "    for i in 1:nrow(x)\n",
    "        p += y[i] * z[i]\n",
    "    end\n",
    "    p\n",
    "end\n",
    "\n",
    "@btime f_bad();\n",
    "# if you run @code_warntype f_bad() then you notice\n",
    "# that Julia does not know column types of `DataFrame`"
   ],
   "metadata": {},
   "execution_count": null
  },
  {
   "cell_type": "markdown",
   "source": [
    "solution 1 is to use barrier function (it should be possible to use it in almost any code) for the calculation. You will notice much less memopry allocations and faster performance."
   ],
   "metadata": {}
  },
  {
   "outputs": [],
   "cell_type": "code",
   "source": [
    "function f_inner(y, z)\n",
    "    p = 0.0\n",
    "    for i in eachindex(y, z)\n",
    "        p += y[i] * z[i]\n",
    "    end\n",
    "    p\n",
    "end\n",
    "\n",
    "function f_barrier()\n",
    "    Random.seed!(1)\n",
    "    x = DataFrame(rand(1000000, 2), :auto)\n",
    "    f_inner(x[!, 1], x[!, 2])\n",
    "end\n",
    "\n",
    "@btime f_barrier();"
   ],
   "metadata": {},
   "execution_count": null
  },
  {
   "cell_type": "markdown",
   "source": [
    "or use inbuilt function if possible"
   ],
   "metadata": {}
  },
  {
   "outputs": [],
   "cell_type": "code",
   "source": [
    "using LinearAlgebra\n",
    "\n",
    "function f_inbuilt()\n",
    "    Random.seed!(1)\n",
    "    x = DataFrame(rand(1000000, 2), :auto)\n",
    "    dot(x[!, 1], x[!, 2])\n",
    "end\n",
    "\n",
    "@btime f_inbuilt();"
   ],
   "metadata": {},
   "execution_count": null
  },
  {
   "cell_type": "markdown",
   "source": [
    "solution 2 is to provide the types of extracted columns. However, there are cases in which you will not know these types."
   ],
   "metadata": {}
  },
  {
   "outputs": [],
   "cell_type": "code",
   "source": [
    "function f_typed()\n",
    "    Random.seed!(1)\n",
    "    x = DataFrame(rand(1000000, 2), :auto)\n",
    "    y::Vector{Float64}, z::Vector{Float64} = x[!, 1], x[!, 2]\n",
    "    p = 0.0\n",
    "    for i in 1:nrow(x)\n",
    "        p += y[i] * z[i]\n",
    "    end\n",
    "    p\n",
    "end\n",
    "\n",
    "@btime f_typed();"
   ],
   "metadata": {},
   "execution_count": null
  },
  {
   "cell_type": "markdown",
   "source": [
    "In general for tall and narrow tables it is often useful to use `Tables.rowtable`, `Tables.columntable` or `Tables.namedtupleiterator` for intermediate processing of data in a type-stable way."
   ],
   "metadata": {}
  },
  {
   "cell_type": "markdown",
   "source": [
    "## Consider using delayed `DataFrame` creation technique\n",
    "also notice the difference in performance between copying vs non-copying data frame creation"
   ],
   "metadata": {}
  },
  {
   "outputs": [],
   "cell_type": "code",
   "source": [
    "function f1()\n",
    "    x = DataFrame([Vector{Float64}(undef, 10^4) for i in 1:100], :auto, copycols=false) ## we work with a DataFrame directly\n",
    "    for c in 1:ncol(x)\n",
    "        d = x[!, c]\n",
    "        for r in 1:nrow(x)\n",
    "            d[r] = rand()\n",
    "        end\n",
    "    end\n",
    "    x\n",
    "end\n",
    "\n",
    "function f1a()\n",
    "    x = DataFrame([Vector{Float64}(undef, 10^4) for i in 1:100], :auto) ## we work with a DataFrame directly\n",
    "    for c in 1:ncol(x)\n",
    "        d = x[!, c]\n",
    "        for r in 1:nrow(x)\n",
    "            d[r] = rand()\n",
    "        end\n",
    "    end\n",
    "    x\n",
    "end\n",
    "\n",
    "function f2()\n",
    "    x = Vector{Any}(undef, 100)\n",
    "    for c in 1:length(x)\n",
    "        d = Vector{Float64}(undef, 10^4)\n",
    "        for r in eachindex(d)\n",
    "            d[r] = rand()\n",
    "        end\n",
    "        x[c] = d\n",
    "    end\n",
    "    DataFrame(x, :auto, copycols=false) ## we delay creation of DataFrame after we have our job done\n",
    "end\n",
    "\n",
    "function f2a()\n",
    "    x = Vector{Any}(undef, 100)\n",
    "    for c in eachindex(x)\n",
    "        d = Vector{Float64}(undef, 10^4)\n",
    "        for r in eachindex(d)\n",
    "            d[r] = rand()\n",
    "        end\n",
    "        x[c] = d\n",
    "    end\n",
    "    DataFrame(x, :auto) ## we delay creation of DataFrame after we have our job done\n",
    "end\n",
    "\n",
    "@btime f1();\n",
    "@btime f1a();\n",
    "@btime f2();\n",
    "@btime f2a();"
   ],
   "metadata": {},
   "execution_count": null
  },
  {
   "cell_type": "markdown",
   "source": [
    "## You can add rows to a DataFrame in place and it is fast"
   ],
   "metadata": {}
  },
  {
   "outputs": [],
   "cell_type": "code",
   "source": [
    "x = DataFrame(rand(10^6, 5), :auto)\n",
    "y = DataFrame(transpose(1.0:5.0), :auto)\n",
    "z = [1.0:5.0;]\n",
    "\n",
    "@btime vcat($x, $y); ## creates a new DataFrame - slow\n",
    "@btime append!($x, $y); ## in place - fast\n",
    "\n",
    "x = DataFrame(rand(10^6, 5), :auto) ## reset to the same starting point\n",
    "@btime push!($x, $z); ## add a single row in place - fast"
   ],
   "metadata": {},
   "execution_count": null
  },
  {
   "cell_type": "markdown",
   "source": [
    "## Allowing missing as well as categorical slows down computations"
   ],
   "metadata": {}
  },
  {
   "outputs": [],
   "cell_type": "code",
   "source": [
    "using StatsBase\n",
    "\n",
    "function test(data) ## uses countmap function to test performance\n",
    "    println(eltype(data))\n",
    "    x = rand(data, 10^6)\n",
    "    y = categorical(x)\n",
    "    println(\" raw:\")\n",
    "    @btime countmap($x)\n",
    "    println(\" categorical:\")\n",
    "    @btime countmap($y)\n",
    "    nothing\n",
    "end\n",
    "\n",
    "test(1:10)\n",
    "test([randstring() for i in 1:10])\n",
    "test(allowmissing(1:10))\n",
    "test(allowmissing([randstring() for i in 1:10]))"
   ],
   "metadata": {},
   "execution_count": null
  },
  {
   "cell_type": "markdown",
   "source": [
    "## When aggregating use column selector and prefer integer, categorical, or pooled array grouping variable"
   ],
   "metadata": {}
  },
  {
   "outputs": [],
   "cell_type": "code",
   "source": [
    "df = DataFrame(x=rand('a':'d', 10^7), y=1);"
   ],
   "metadata": {},
   "execution_count": null
  },
  {
   "outputs": [],
   "cell_type": "code",
   "source": [
    "gdf = groupby(df, :x)"
   ],
   "metadata": {},
   "execution_count": null
  },
  {
   "cell_type": "markdown",
   "source": [
    "traditional syntax, slow"
   ],
   "metadata": {}
  },
  {
   "outputs": [],
   "cell_type": "code",
   "source": [
    "@btime combine(v -> sum(v.y), $gdf)"
   ],
   "metadata": {},
   "execution_count": null
  },
  {
   "cell_type": "markdown",
   "source": [
    "use column selector"
   ],
   "metadata": {}
  },
  {
   "outputs": [],
   "cell_type": "code",
   "source": [
    "@btime combine($gdf, :y => sum)"
   ],
   "metadata": {},
   "execution_count": null
  },
  {
   "outputs": [],
   "cell_type": "code",
   "source": [
    "transform!(df, :x => categorical => :x);\n",
    "gdf = groupby(df, :x)"
   ],
   "metadata": {},
   "execution_count": null
  },
  {
   "outputs": [],
   "cell_type": "code",
   "source": [
    "@btime combine($gdf, :y => sum)"
   ],
   "metadata": {},
   "execution_count": null
  },
  {
   "outputs": [],
   "cell_type": "code",
   "source": [
    "transform!(df, :x => PooledArray{Char} => :x)"
   ],
   "metadata": {},
   "execution_count": null
  },
  {
   "outputs": [],
   "cell_type": "code",
   "source": [
    "gdf = groupby(df, :x)"
   ],
   "metadata": {},
   "execution_count": null
  },
  {
   "outputs": [],
   "cell_type": "code",
   "source": [
    "@btime combine($gdf, :y => sum)"
   ],
   "metadata": {},
   "execution_count": null
  },
  {
   "cell_type": "markdown",
   "source": [
    "## Use views instead of materializing a new DataFrame"
   ],
   "metadata": {}
  },
  {
   "outputs": [],
   "cell_type": "code",
   "source": [
    "x = DataFrame(rand(100, 1000), :auto)\n",
    "@btime $x[1:1, :]"
   ],
   "metadata": {},
   "execution_count": null
  },
  {
   "outputs": [],
   "cell_type": "code",
   "source": [
    "@btime $x[1, :]"
   ],
   "metadata": {},
   "execution_count": null
  },
  {
   "outputs": [],
   "cell_type": "code",
   "source": [
    "@btime view($x, 1:1, :)"
   ],
   "metadata": {},
   "execution_count": null
  },
  {
   "outputs": [],
   "cell_type": "code",
   "source": [
    "@btime $x[1:1, 1:20]"
   ],
   "metadata": {},
   "execution_count": null
  },
  {
   "outputs": [],
   "cell_type": "code",
   "source": [
    "@btime $x[1, 1:20]"
   ],
   "metadata": {},
   "execution_count": null
  },
  {
   "outputs": [],
   "cell_type": "code",
   "source": [
    "@btime view($x, 1:1, 1:20)"
   ],
   "metadata": {},
   "execution_count": null
  },
  {
   "cell_type": "markdown",
   "source": [
    "---\n",
    "\n",
    "*This notebook was generated using [Literate.jl](https://github.com/fredrikekre/Literate.jl).*"
   ],
   "metadata": {}
  }
 ],
 "nbformat_minor": 3,
 "metadata": {
  "language_info": {
   "file_extension": ".jl",
   "mimetype": "application/julia",
   "name": "julia",
   "version": "1.11.7"
  },
  "kernelspec": {
   "name": "julia-1.11",
   "display_name": "Julia 1.11.7",
   "language": "julia"
  }
 },
 "nbformat": 4
}
